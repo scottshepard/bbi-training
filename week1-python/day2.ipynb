{
 "cells": [
  {
   "cell_type": "markdown",
   "metadata": {},
   "source": [
    "# Day 2 - Conditionals"
   ]
  },
  {
   "cell_type": "code",
   "execution_count": 1,
   "metadata": {},
   "outputs": [
    {
     "name": "stdout",
     "output_type": "stream",
     "text": [
      "Bigger than 2\n"
     ]
    }
   ],
   "source": [
    "x = 5\n",
    "if x > 2:\n",
    "    print('Bigger than 2')"
   ]
  },
  {
   "cell_type": "code",
   "execution_count": 2,
   "metadata": {},
   "outputs": [
    {
     "name": "stdout",
     "output_type": "stream",
     "text": [
      "0\n",
      "1\n",
      "2\n",
      "3\n",
      "Bigger than 2\n",
      "4\n",
      "Bigger than 2\n"
     ]
    }
   ],
   "source": [
    "for i in range(5):\n",
    "    print(i)\n",
    "    if i > 2:\n",
    "        print('Bigger than 2')"
   ]
  },
  {
   "cell_type": "code",
   "execution_count": 3,
   "metadata": {},
   "outputs": [
    {
     "data": {
      "text/plain": [
       "False"
      ]
     },
     "execution_count": 3,
     "metadata": {},
     "output_type": "execute_result"
    }
   ],
   "source": [
    "x is None"
   ]
  },
  {
   "cell_type": "markdown",
   "metadata": {},
   "source": [
    "# Labs"
   ]
  },
  {
   "cell_type": "markdown",
   "metadata": {},
   "source": [
    "## Lab 1 Excercise 1\n",
    "\n",
    "\n",
    "Write a program to prompt the user for hours and rate per hour and compute gross pay (i.e. gross pay = hrs x rate).  \n",
    "<input prompt>\tEnter Hours: 35 (example input)  \n",
    "<input prompt>\tEnter Rate ($ per hr): 2.75 (example input)  \n",
    "\n",
    "<output>\t\tPay: $96.25 (output)  \n",
    "\n",
    "\n",
    "Verify your program output for the above example input values.\n",
    "Save this into a file named W1-D1-lab1-1.\n",
    "\n"
   ]
  },
  {
   "cell_type": "code",
   "execution_count": 6,
   "metadata": {},
   "outputs": [
    {
     "name": "stdin",
     "output_type": "stream",
     "text": [
      "Hours?  35\n",
      "Pay rate?  2.75\n"
     ]
    },
    {
     "name": "stdout",
     "output_type": "stream",
     "text": [
      "96.25\n"
     ]
    }
   ],
   "source": [
    "hrs = int(input('Hours? '))\n",
    "rte = float(input('Pay rate? '))\n",
    "print(hrs * rte)"
   ]
  },
  {
   "cell_type": "markdown",
   "metadata": {},
   "source": [
    "## Lab 2 Exercise 2\n",
    "\n",
    "Define the following variables and assign some appropriate values.\n",
    "\n",
    "car_name e.g. “Tesla”, “Toyota”, …\n",
    "price1, price2, price3 e.g. any appropriate $ values\n",
    "\n",
    "\n",
    "Define another variable called average and assign the computed average of the three prices..\n",
    "\n",
    "\n",
    "Output showing the car name and the average price in the following format:\n",
    "  \n",
    "On an average, <car_name> costs around $<average>.   \n",
    "\n",
    "BONUS:  Use the following line of code to print it rounded up to decimal places only.\n",
    "\t\t avg = “{:.2f}\".format(avg)\n"
   ]
  },
  {
   "cell_type": "code",
   "execution_count": 9,
   "metadata": {},
   "outputs": [
    {
     "name": "stdout",
     "output_type": "stream",
     "text": [
      "On average, cars cost about 67.500000\n"
     ]
    }
   ],
   "source": [
    "Tesla = 90\n",
    "Toyota = 45\n",
    "avg = (Tesla + Toyota) / 2\n",
    "print(\"On average, cars cost about\", \"{:2f}\".format(avg))"
   ]
  },
  {
   "cell_type": "markdown",
   "metadata": {},
   "source": [
    "## Lab 2 Exercise 1\n",
    "\n",
    "Write a program that does the following.\n",
    "\n",
    "Prompt the user for a new file name.  \n",
    "Enter:  “W1-D1-lab2-1.txt”  \n",
    "Open that file with write permission.  \n",
    "Write the following text into this file.  \n",
    "“The rain in Spain stays mainly on the plain!  \n",
    "Did Eliza get drenched in the rainy plains of Spain?”  \n",
    "Close the file  \n",
    "\n",
    "Save as (this program file) W1-D1-lab2-1  \n",
    "Verify that there is a file “W1-D1-lab2-1.ipynb” (Home view).\n",
    "\n",
    "Execute the program multiple times & look at the file size.  Does it make sense?\n",
    "\n"
   ]
  },
  {
   "cell_type": "code",
   "execution_count": 12,
   "metadata": {},
   "outputs": [
    {
     "name": "stdin",
     "output_type": "stream",
     "text": [
      "Filename to save:  W1-D1-lab2-1.txt\n"
     ]
    }
   ],
   "source": [
    "filename = input('Filename to save: ')\n",
    "fh = open(filename, 'w')\n",
    "txt = '''The rain in Spain stays mainly on the plain! \n",
    "Did Eliza get drenched in the rainy plains of Spain?\n",
    "'''\n",
    "fh.write(txt)\n",
    "fh.close()\n"
   ]
  },
  {
   "cell_type": "markdown",
   "metadata": {},
   "source": [
    "## Lab 2 Exercise 2\n",
    "\n",
    "Write a program that does the following.  \n",
    "\n",
    "Prompt the user for a new file name.  \n",
    "Enter:  “W1-D1-lab2-2.txt”  \n",
    "Open that file with append permission.  \n",
    "fh = open(fname, ‘a’)  \n",
    "Write the following text into this file.  \n",
    "“Happy 2020!”  \n",
    "Close the file  \n",
    "Re-open the file for read.  \n",
    "\n",
    "Save as (this program file) W1-D1-lab2-2.  \n",
    "Verify that there is a file “W1-D1-lab2-2.ipynb” (Home view).  \n",
    "\n",
    "Execute the program multiple times & look at the file size.  Does it make sense?\n"
   ]
  },
  {
   "cell_type": "code",
   "execution_count": 14,
   "metadata": {},
   "outputs": [
    {
     "name": "stdin",
     "output_type": "stream",
     "text": [
      "File to append:  W1-D1-lab2-2.txt\n"
     ]
    }
   ],
   "source": [
    "filename = input(\"File to append: \")\n",
    "fh = open(filename, 'a')\n",
    "fh.write(\"Happy 2020!\")\n",
    "fh.close()"
   ]
  },
  {
   "cell_type": "code",
   "execution_count": 17,
   "metadata": {},
   "outputs": [
    {
     "name": "stdout",
     "output_type": "stream",
     "text": [
      "140341284059992\n",
      "140341284059992\n"
     ]
    }
   ],
   "source": [
    "x = \"Mary\"\n",
    "y = 'Mary'\n",
    "print(id(x))\n",
    "print(id(y))"
   ]
  },
  {
   "cell_type": "code",
   "execution_count": 19,
   "metadata": {},
   "outputs": [
    {
     "name": "stdout",
     "output_type": "stream",
     "text": [
      "140341284327904\n",
      "140341284327688\n",
      "140341284327544\n"
     ]
    }
   ],
   "source": [
    "x = 3.14\n",
    "y = 3.14\n",
    "z = 3.14\n",
    "print(id(x))\n",
    "print(id(y))\n",
    "print(id(z))"
   ]
  },
  {
   "cell_type": "markdown",
   "metadata": {},
   "source": [
    "# Lists"
   ]
  },
  {
   "cell_type": "code",
   "execution_count": 26,
   "metadata": {},
   "outputs": [
    {
     "data": {
      "text/plain": [
       "[1, 2, 4]"
      ]
     },
     "execution_count": 26,
     "metadata": {},
     "output_type": "execute_result"
    }
   ],
   "source": [
    "x = [1, 2, 3]\n",
    "y = x\n",
    "y[2] = 4\n",
    "x"
   ]
  },
  {
   "cell_type": "markdown",
   "metadata": {},
   "source": [
    "# Quiz"
   ]
  },
  {
   "cell_type": "code",
   "execution_count": 27,
   "metadata": {},
   "outputs": [
    {
     "ename": "KeyError",
     "evalue": "'stuff'",
     "output_type": "error",
     "traceback": [
      "\u001b[0;31m---------------------------------------------------------------------------\u001b[0m",
      "\u001b[0;31mKeyError\u001b[0m                                  Traceback (most recent call last)",
      "\u001b[0;32m<ipython-input-27-940ae1478fc3>\u001b[0m in \u001b[0;36m<module>\u001b[0;34m\u001b[0m\n\u001b[1;32m      1\u001b[0m \u001b[0mmyDict\u001b[0m \u001b[0;34m=\u001b[0m \u001b[0mdict\u001b[0m\u001b[0;34m(\u001b[0m\u001b[0;34m)\u001b[0m\u001b[0;34m\u001b[0m\u001b[0;34m\u001b[0m\u001b[0m\n\u001b[0;32m----> 2\u001b[0;31m \u001b[0mmyDict\u001b[0m\u001b[0;34m[\u001b[0m\u001b[0;34m'stuff'\u001b[0m\u001b[0;34m]\u001b[0m\u001b[0;34m\u001b[0m\u001b[0;34m\u001b[0m\u001b[0m\n\u001b[0m",
      "\u001b[0;31mKeyError\u001b[0m: 'stuff'"
     ]
    }
   ],
   "source": [
    "myDict = dict()\n",
    "myDict['stuff']"
   ]
  },
  {
   "cell_type": "code",
   "execution_count": 31,
   "metadata": {},
   "outputs": [
    {
     "data": {
      "text/plain": [
       "-1"
      ]
     },
     "execution_count": 31,
     "metadata": {},
     "output_type": "execute_result"
    }
   ],
   "source": [
    "myDict.get('stuff', -1)"
   ]
  },
  {
   "cell_type": "code",
   "execution_count": 35,
   "metadata": {},
   "outputs": [
    {
     "name": "stdout",
     "output_type": "stream",
     "text": [
      "a\n",
      "b\n"
     ]
    }
   ],
   "source": [
    "myDict['a'] = 1\n",
    "myDict['b'] = 2\n",
    "for i in myDict:\n",
    "    print(i)"
   ]
  },
  {
   "cell_type": "code",
   "execution_count": 36,
   "metadata": {},
   "outputs": [
    {
     "ename": "TypeError",
     "evalue": "'str' object does not support item assignment",
     "output_type": "error",
     "traceback": [
      "\u001b[0;31m---------------------------------------------------------------------------\u001b[0m",
      "\u001b[0;31mTypeError\u001b[0m                                 Traceback (most recent call last)",
      "\u001b[0;32m<ipython-input-36-2bc78b004470>\u001b[0m in \u001b[0;36m<module>\u001b[0;34m\u001b[0m\n\u001b[1;32m      1\u001b[0m \u001b[0mfruit\u001b[0m \u001b[0;34m=\u001b[0m \u001b[0;34m'Banana'\u001b[0m\u001b[0;34m\u001b[0m\u001b[0;34m\u001b[0m\u001b[0m\n\u001b[0;32m----> 2\u001b[0;31m \u001b[0mfruit\u001b[0m\u001b[0;34m[\u001b[0m\u001b[0;36m0\u001b[0m\u001b[0;34m]\u001b[0m \u001b[0;34m=\u001b[0m \u001b[0;34m'b'\u001b[0m\u001b[0;34m\u001b[0m\u001b[0;34m\u001b[0m\u001b[0m\n\u001b[0m",
      "\u001b[0;31mTypeError\u001b[0m: 'str' object does not support item assignment"
     ]
    }
   ],
   "source": [
    "fruit = 'Banana'\n",
    "fruit[0] = 'b'"
   ]
  },
  {
   "cell_type": "code",
   "execution_count": 37,
   "metadata": {},
   "outputs": [
    {
     "data": {
      "text/plain": [
       "[1, 2, 3, 4, 5, 6]"
      ]
     },
     "execution_count": 37,
     "metadata": {},
     "output_type": "execute_result"
    }
   ],
   "source": [
    "a = [1,2,3]\n",
    "b = [4,5,6]\n",
    "a + b"
   ]
  },
  {
   "cell_type": "code",
   "execution_count": 38,
   "metadata": {},
   "outputs": [
    {
     "data": {
      "text/plain": [
       "'Guido'"
      ]
     },
     "execution_count": 38,
     "metadata": {},
     "output_type": "execute_result"
    }
   ],
   "source": [
    "bdfl = [\"Rossum\", \"Guido\", \"van\"]\n",
    "bdfl.sort()\n",
    "bdfl[0]"
   ]
  }
 ],
 "metadata": {
  "kernelspec": {
   "display_name": "Python 3",
   "language": "python",
   "name": "python3"
  },
  "language_info": {
   "codemirror_mode": {
    "name": "ipython",
    "version": 3
   },
   "file_extension": ".py",
   "mimetype": "text/x-python",
   "name": "python",
   "nbconvert_exporter": "python",
   "pygments_lexer": "ipython3",
   "version": "3.7.3"
  }
 },
 "nbformat": 4,
 "nbformat_minor": 4
}
